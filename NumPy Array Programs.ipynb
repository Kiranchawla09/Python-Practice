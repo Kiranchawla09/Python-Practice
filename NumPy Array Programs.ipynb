{
 "cells": [
  {
   "cell_type": "code",
   "execution_count": 3,
   "metadata": {},
   "outputs": [],
   "source": [
    "import numpy as np"
   ]
  },
  {
   "cell_type": "code",
   "execution_count": 10,
   "metadata": {},
   "outputs": [
    {
     "name": "stdout",
     "output_type": "stream",
     "text": [
      "[[10, 12, 9, 5], [45, 78, 3, 14]]\n"
     ]
    }
   ],
   "source": [
    "data = [[10,12,9,5],[45,78,3,14]]\n",
    "print (data)\n"
   ]
  },
  {
   "cell_type": "code",
   "execution_count": 7,
   "metadata": {},
   "outputs": [
    {
     "name": "stdout",
     "output_type": "stream",
     "text": [
      "[[10 12  9  5]\n",
      " [45 78  3 14]]\n"
     ]
    }
   ],
   "source": [
    "myArr = np.array(data) # creation of numpy array\n",
    "print (myArr)"
   ]
  },
  {
   "cell_type": "code",
   "execution_count": 8,
   "metadata": {},
   "outputs": [
    {
     "data": {
      "text/plain": [
       "numpy.ndarray"
      ]
     },
     "execution_count": 8,
     "metadata": {},
     "output_type": "execute_result"
    }
   ],
   "source": [
    "myArr.__class__"
   ]
  },
  {
   "cell_type": "code",
   "execution_count": 6,
   "metadata": {},
   "outputs": [
    {
     "data": {
      "text/plain": [
       "2"
      ]
     },
     "execution_count": 6,
     "metadata": {},
     "output_type": "execute_result"
    }
   ],
   "source": [
    "myArr.ndim"
   ]
  },
  {
   "cell_type": "code",
   "execution_count": 7,
   "metadata": {},
   "outputs": [
    {
     "data": {
      "text/plain": [
       "(2, 4)"
      ]
     },
     "execution_count": 7,
     "metadata": {},
     "output_type": "execute_result"
    }
   ],
   "source": [
    "myArr.shape"
   ]
  },
  {
   "cell_type": "code",
   "execution_count": 8,
   "metadata": {},
   "outputs": [
    {
     "data": {
      "text/plain": [
       "dtype('int32')"
      ]
     },
     "execution_count": 8,
     "metadata": {},
     "output_type": "execute_result"
    }
   ],
   "source": [
    "myArr.dtype"
   ]
  },
  {
   "cell_type": "code",
   "execution_count": 6,
   "metadata": {},
   "outputs": [
    {
     "name": "stdout",
     "output_type": "stream",
     "text": [
      "[[ 0  1  2  3  4]\n",
      " [ 5  6  7  8  9]\n",
      " [10 11 12 13 14]]\n"
     ]
    }
   ],
   "source": [
    "myNewArr = np.arange(15).reshape(3,5)\n",
    "print (myNewArr)"
   ]
  },
  {
   "cell_type": "code",
   "execution_count": 11,
   "metadata": {},
   "outputs": [
    {
     "name": "stdout",
     "output_type": "stream",
     "text": [
      "8\n"
     ]
    }
   ],
   "source": [
    "print (myNewArr[1][3])"
   ]
  },
  {
   "cell_type": "code",
   "execution_count": 30,
   "metadata": {},
   "outputs": [
    {
     "name": "stdout",
     "output_type": "stream",
     "text": [
      "[[ 0.93885608 -1.14036483 -0.15915027]\n",
      " [-2.32053141  0.44714035 -0.53573429]\n",
      " [-1.01823557  1.15067991 -1.2589258 ]\n",
      " [ 2.03786311  0.00244294  1.07079251]\n",
      " [-0.91248134 -0.62753126  1.86325908]\n",
      " [-0.5013921   0.4235699  -0.23685288]]\n"
     ]
    }
   ],
   "source": [
    "random.seed(32)\n",
    "randomArr = np.random.randn(6,3)\n",
    "print (randomArr)"
   ]
  },
  {
   "cell_type": "code",
   "execution_count": 41,
   "metadata": {},
   "outputs": [
    {
     "name": "stderr",
     "output_type": "stream",
     "text": [
      "/home/rk/anaconda3/lib/python3.7/site-packages/ipykernel_launcher.py:1: RuntimeWarning: invalid value encountered in log\n",
      "  \"\"\"Entry point for launching an IPython kernel.\n"
     ]
    },
    {
     "data": {
      "text/plain": [
       "array([[-0.06309308,         nan,         nan],\n",
       "       [        nan, -0.80488275,         nan],\n",
       "       [        nan,  0.14035299,         nan],\n",
       "       [ 0.71190176, -6.01455108,  0.06839904],\n",
       "       [        nan,         nan,  0.62232715],\n",
       "       [        nan, -0.85903673,         nan]])"
      ]
     },
     "execution_count": 41,
     "metadata": {},
     "output_type": "execute_result"
    }
   ],
   "source": [
    "np.log(randomArr)"
   ]
  },
  {
   "cell_type": "code",
   "execution_count": 42,
   "metadata": {},
   "outputs": [
    {
     "name": "stdout",
     "output_type": "stream",
     "text": [
      "[[10, 12, 9, 5], [45, 78, 3, 14]]\n",
      "[[10 12  9  5]\n",
      " [45 78  3 14]]\n"
     ]
    }
   ],
   "source": [
    "data = [[10,12,9,5],[45,78,3,14]]\n",
    "print (data)\n",
    "myArr1 = np.array(data)\n",
    "print (myArr1)"
   ]
  },
  {
   "cell_type": "code",
   "execution_count": 43,
   "metadata": {},
   "outputs": [
    {
     "name": "stdout",
     "output_type": "stream",
     "text": [
      "[[11, 1, 91, 35], [5, 8, 13, 4]]\n",
      "[[11  1 91 35]\n",
      " [ 5  8 13  4]]\n"
     ]
    }
   ],
   "source": [
    "data = [[11,1,91,35],[5,8,13,4]]\n",
    "print (data)\n",
    "myArr2 = np.array(data)\n",
    "print (myArr2)"
   ]
  },
  {
   "cell_type": "code",
   "execution_count": 40,
   "metadata": {},
   "outputs": [
    {
     "name": "stdout",
     "output_type": "stream",
     "text": [
      "[[ 21  13 100  40]\n",
      " [ 50  86  16  18]]\n"
     ]
    }
   ],
   "source": [
    "myArr3 = np.add (myArr1, myArr2)\n",
    "print (myArr3)"
   ]
  }
 ],
 "metadata": {
  "kernelspec": {
   "display_name": "Python 3",
   "language": "python",
   "name": "python3"
  },
  "language_info": {
   "codemirror_mode": {
    "name": "ipython",
    "version": 3
   },
   "file_extension": ".py",
   "mimetype": "text/x-python",
   "name": "python",
   "nbconvert_exporter": "python",
   "pygments_lexer": "ipython3",
   "version": "3.7.1"
  }
 },
 "nbformat": 4,
 "nbformat_minor": 2
}
